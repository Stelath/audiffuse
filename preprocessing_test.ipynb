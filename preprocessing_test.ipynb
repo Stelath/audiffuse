{
 "cells": [
  {
   "cell_type": "code",
   "execution_count": 3,
   "metadata": {},
   "outputs": [
    {
     "name": "stderr",
     "output_type": "stream",
     "text": [
      "/home/korte/micromamba/envs/ml/lib/python3.9/site-packages/tqdm/auto.py:22: TqdmWarning: IProgress not found. Please update jupyter and ipywidgets. See https://ipywidgets.readthedocs.io/en/stable/user_install.html\n",
      "  from .autonotebook import tqdm as notebook_tqdm\n"
     ]
    }
   ],
   "source": [
    "import os\n",
    "import numpy as np\n",
    "import pandas as pd\n",
    "from es_dataset import EpidemicSoundDataset"
   ]
  },
  {
   "cell_type": "code",
   "execution_count": 4,
   "metadata": {},
   "outputs": [],
   "source": [
    "dataset = EpidemicSoundDataset('/fastscratch/korte/es_dataset/')"
   ]
  },
  {
   "cell_type": "code",
   "execution_count": 5,
   "metadata": {},
   "outputs": [
    {
     "name": "stdout",
     "output_type": "stream",
     "text": [
      "CPU times: user 6.18 s, sys: 701 ms, total: 6.88 s\n",
      "Wall time: 305 ms\n"
     ]
    },
    {
     "name": "stderr",
     "output_type": "stream",
     "text": [
      "/home/korte/micromamba/envs/ml/lib/python3.9/site-packages/torchaudio/transforms/_transforms.py:611: UserWarning: Argument 'onesided' has been deprecated and has no influence on the behavior of this module.\n",
      "  warnings.warn(\n",
      "/home/korte/micromamba/envs/ml/lib/python3.9/site-packages/torchvision/transforms/functional.py:1603: UserWarning: The default value of the antialias parameter of all the resizing transforms (Resize(), RandomResizedCrop(), etc.) will change from None to True in v0.17, in order to be consistent across the PIL and Tensor backends. To suppress this warning, directly pass antialias=True (recommended, future default), antialias=None (current default, which means False for Tensors and True for PIL), or antialias=False (only works on Tensors - PIL will still use antialiasing). This also applies if you are using the inference transforms from the models weights: update the call to weights.transforms(antialias=True).\n",
      "  warnings.warn(\n"
     ]
    },
    {
     "data": {
      "text/plain": [
       "{'album_art': tensor([[[0.9373, 0.9373, 0.9373,  ..., 0.4588, 0.4588, 0.4588],\n",
       "          [0.9373, 0.9373, 0.9373,  ..., 0.4588, 0.4588, 0.4588],\n",
       "          [0.9373, 0.9373, 0.9373,  ..., 0.4588, 0.4588, 0.4588],\n",
       "          ...,\n",
       "          [0.5373, 0.5373, 0.5373,  ..., 0.0667, 0.0667, 0.0667],\n",
       "          [0.5373, 0.5373, 0.5373,  ..., 0.0667, 0.0667, 0.0667],\n",
       "          [0.5373, 0.5373, 0.5373,  ..., 0.0667, 0.0667, 0.0667]],\n",
       " \n",
       "         [[0.9137, 0.9137, 0.9137,  ..., 0.3725, 0.3725, 0.3725],\n",
       "          [0.9137, 0.9137, 0.9137,  ..., 0.3725, 0.3725, 0.3725],\n",
       "          [0.9137, 0.9137, 0.9137,  ..., 0.3725, 0.3725, 0.3725],\n",
       "          ...,\n",
       "          [0.2863, 0.2863, 0.2863,  ..., 0.1059, 0.1059, 0.1059],\n",
       "          [0.2863, 0.2863, 0.2863,  ..., 0.1059, 0.1059, 0.1059],\n",
       "          [0.2863, 0.2863, 0.2863,  ..., 0.1059, 0.1059, 0.1059]],\n",
       " \n",
       "         [[1.0000, 1.0000, 1.0000,  ..., 0.9843, 0.9843, 0.9843],\n",
       "          [1.0000, 1.0000, 1.0000,  ..., 0.9843, 0.9843, 0.9843],\n",
       "          [1.0000, 1.0000, 1.0000,  ..., 0.9843, 0.9843, 0.9843],\n",
       "          ...,\n",
       "          [0.4510, 0.4510, 0.4510,  ..., 0.5608, 0.5608, 0.5608],\n",
       "          [0.4510, 0.4510, 0.4510,  ..., 0.5608, 0.5608, 0.5608],\n",
       "          [0.4510, 0.4510, 0.4510,  ..., 0.5608, 0.5608, 0.5608]]]),\n",
       " 'audio': {'mel_fusion': tensor([[[  15.9170,   19.8694,   27.0848,  ...,  -14.7224,    0.9398,\n",
       "               0.3665],\n",
       "           [  33.1171,   35.5094,   34.7166,  ...,  -26.0658,  -26.8655,\n",
       "             -32.5993],\n",
       "           [  33.6572,   36.2713,   35.6587,  ...,  -27.4497,  -27.4308,\n",
       "             -27.9984],\n",
       "           ...,\n",
       "           [-100.0000, -100.0000, -100.0000,  ..., -100.0000, -100.0000,\n",
       "            -100.0000],\n",
       "           [-100.0000, -100.0000, -100.0000,  ..., -100.0000, -100.0000,\n",
       "            -100.0000],\n",
       "           [-100.0000, -100.0000, -100.0000,  ..., -100.0000, -100.0000,\n",
       "            -100.0000]],\n",
       "  \n",
       "          [[  28.1846,   31.1293,   34.5109,  ...,  -10.2247,   -7.3848,\n",
       "              -7.8899],\n",
       "           [  31.9578,   30.6644,   33.5393,  ...,  -12.1289,  -16.4217,\n",
       "             -13.2081],\n",
       "           [  29.7185,   25.7613,   31.5235,  ...,   -7.1241,  -11.9722,\n",
       "             -11.1276],\n",
       "           ...,\n",
       "           [  25.7826,   22.1234,   17.3755,  ...,    6.1881,    1.4053,\n",
       "              -1.7699],\n",
       "           [  24.9206,   20.8653,   17.0027,  ...,    2.2042,   -0.2316,\n",
       "              -3.7032],\n",
       "           [  26.7688,   23.5038,   21.2000,  ...,    4.3115,    1.9737,\n",
       "              -1.8934]],\n",
       "  \n",
       "          [[  31.4516,   30.1711,   30.2366,  ...,  -19.2168,  -17.1977,\n",
       "             -18.5244],\n",
       "           [  32.3166,   31.8444,   32.3101,  ...,  -21.6612,  -19.1739,\n",
       "             -18.8971],\n",
       "           [  30.6666,   30.3550,   30.5827,  ...,   -0.3580,    2.2949,\n",
       "               4.2120],\n",
       "           ...,\n",
       "           [  23.0265,   25.5596,   24.5373,  ...,   -6.1940,   -6.5590,\n",
       "              -4.8216],\n",
       "           [  24.5145,   29.5952,   30.6144,  ...,  -11.1657,  -11.1656,\n",
       "              -8.4854],\n",
       "           [  26.2991,   25.4475,   24.9296,  ...,  -12.0588,  -12.3685,\n",
       "             -10.0717]],\n",
       "  \n",
       "          [[  32.5477,   28.3427,   32.5366,  ...,  -20.7746,  -20.1801,\n",
       "             -21.1318],\n",
       "           [  31.7888,   29.9820,   27.6302,  ...,  -18.9903,  -20.6732,\n",
       "             -22.1321],\n",
       "           [  26.5054,   27.2838,   30.5202,  ...,  -14.4062,  -13.5678,\n",
       "             -17.5627],\n",
       "           ...,\n",
       "           [  23.3829,   20.4833,   26.0489,  ...,  -13.0999,  -12.0527,\n",
       "             -18.4325],\n",
       "           [  14.3352,   23.2915,   25.9480,  ...,  -21.9955,  -20.2307,\n",
       "             -23.2240],\n",
       "           [  27.7970,   28.5568,   28.9668,  ...,  -18.6895,  -17.8640,\n",
       "             -19.2490]]]),\n",
       "  'longer': tensor([True]),\n",
       "  'waveform': tensor([0.2764, 0.2736, 0.2758,  ..., 0.1622, 0.2025, 0.2877])}}"
      ]
     },
     "execution_count": 5,
     "metadata": {},
     "output_type": "execute_result"
    }
   ],
   "source": [
    "%%time\n",
    "dataset[0]"
   ]
  },
  {
   "cell_type": "code",
   "execution_count": 8,
   "metadata": {},
   "outputs": [
    {
     "data": {
      "text/plain": [
       "{'mel_fusion': tensor([[[ 1.5917e+01,  1.9869e+01,  2.7085e+01,  ..., -1.4722e+01,\n",
       "            9.3978e-01,  3.6651e-01],\n",
       "          [ 3.3117e+01,  3.5509e+01,  3.4717e+01,  ..., -2.6066e+01,\n",
       "           -2.6866e+01, -3.2599e+01],\n",
       "          [ 3.3657e+01,  3.6271e+01,  3.5659e+01,  ..., -2.7450e+01,\n",
       "           -2.7431e+01, -2.7998e+01],\n",
       "          ...,\n",
       "          [-1.0000e+02, -1.0000e+02, -1.0000e+02,  ..., -1.0000e+02,\n",
       "           -1.0000e+02, -1.0000e+02],\n",
       "          [-1.0000e+02, -1.0000e+02, -1.0000e+02,  ..., -1.0000e+02,\n",
       "           -1.0000e+02, -1.0000e+02],\n",
       "          [-1.0000e+02, -1.0000e+02, -1.0000e+02,  ..., -1.0000e+02,\n",
       "           -1.0000e+02, -1.0000e+02]],\n",
       " \n",
       "         [[ 3.3918e+01,  3.2218e+01,  3.0001e+01,  ..., -7.2249e+00,\n",
       "           -1.2111e+01, -1.5617e+01],\n",
       "          [ 2.5338e+01,  3.1265e+01,  3.2185e+01,  ..., -6.0831e+00,\n",
       "           -1.0260e+01, -1.4821e+01],\n",
       "          [ 3.1465e+01,  2.9850e+01,  2.8021e+01,  ..., -5.7539e+00,\n",
       "           -8.8709e+00, -1.4200e+01],\n",
       "          ...,\n",
       "          [ 1.7033e+01,  1.8264e+01,  2.8731e+01,  ..., -3.0445e+00,\n",
       "           -4.5191e+00, -9.2452e+00],\n",
       "          [ 1.8525e+01,  2.1562e+01,  2.9396e+01,  ..., -1.6763e+00,\n",
       "           -5.7625e+00, -9.0173e+00],\n",
       "          [ 2.4740e+01,  2.3650e+01,  2.8326e+01,  ..., -3.4214e+00,\n",
       "           -3.1981e+00, -5.3794e+00]],\n",
       " \n",
       "         [[ 3.1964e+01,  2.8383e+01,  2.4181e+01,  ..., -2.2414e+01,\n",
       "           -2.9105e+01, -3.7623e+01],\n",
       "          [ 3.2906e+01,  2.9918e+01,  2.6938e+01,  ..., -2.3967e+01,\n",
       "           -2.6466e+01, -2.7159e+01],\n",
       "          [ 3.2515e+01,  2.8555e+01,  2.5095e+01,  ..., -2.3600e+01,\n",
       "           -2.8096e+01, -2.8440e+01],\n",
       "          ...,\n",
       "          [ 4.1035e+01,  4.0800e+01,  3.9024e+01,  ...,  8.4389e-01,\n",
       "           -6.8963e-01, -3.1996e-01],\n",
       "          [ 3.5758e+01,  3.3918e+01,  3.1139e+01,  ...,  6.3257e-01,\n",
       "           -1.6116e+00, -3.7733e-01],\n",
       "          [ 3.4066e+01,  3.2074e+01,  3.3161e+01,  ...,  2.4806e+00,\n",
       "            3.6631e-02,  3.7786e+00]],\n",
       " \n",
       "         [[ 2.6687e+01,  2.2939e+01,  2.0116e+01,  ..., -1.2231e+01,\n",
       "           -1.6620e+01, -1.5051e+01],\n",
       "          [ 2.5412e+01,  2.1401e+01,  1.5421e+01,  ..., -1.3033e+01,\n",
       "           -1.5497e+01, -1.6533e+01],\n",
       "          [ 3.0727e+01,  2.7248e+01,  2.3082e+01,  ..., -9.4001e+00,\n",
       "           -1.5709e+01, -1.8615e+01],\n",
       "          ...,\n",
       "          [ 1.9401e+01,  3.5630e+01,  3.7721e+01,  ...,  6.7048e+00,\n",
       "            3.9747e+00,  8.8924e+00],\n",
       "          [ 2.1606e+01,  3.1345e+01,  3.3141e+01,  ...,  8.5591e+00,\n",
       "            6.2004e+00,  6.4723e+00],\n",
       "          [ 2.7932e+01,  2.7981e+01,  3.0001e+01,  ...,  5.4559e+00,\n",
       "            4.6224e+00,  4.2763e+00]]]),\n",
       " 'longer': tensor([True]),\n",
       " 'waveform': tensor([0.3307, 0.3244, 0.3095,  ..., 0.3120, 0.3056, 0.2970])}"
      ]
     },
     "execution_count": 8,
     "metadata": {},
     "output_type": "execute_result"
    }
   ],
   "source": [
    "dataset[0]['audio']"
   ]
  },
  {
   "cell_type": "code",
   "execution_count": 5,
   "metadata": {},
   "outputs": [],
   "source": [
    "tracks = []\n",
    "for i in range(32):\n",
    "    tracks.append(dataset[i][1])"
   ]
  },
  {
   "cell_type": "code",
   "execution_count": 9,
   "metadata": {},
   "outputs": [
    {
     "name": "stdout",
     "output_type": "stream",
     "text": [
      "CPU times: user 8.38 s, sys: 1.48 s, total: 9.86 s\n",
      "Wall time: 5.91 s\n"
     ]
    }
   ],
   "source": [
    "%%time\n",
    "pp = fe(dataset[3][1], sampling_rate=48000)"
   ]
  },
  {
   "cell_type": "code",
   "execution_count": 10,
   "metadata": {},
   "outputs": [
    {
     "data": {
      "text/plain": [
       "(4, 10001, 64)"
      ]
     },
     "execution_count": 10,
     "metadata": {},
     "output_type": "execute_result"
    }
   ],
   "source": [
    "pp['input_features'][0].shape"
   ]
  },
  {
   "cell_type": "code",
   "execution_count": null,
   "metadata": {},
   "outputs": [],
   "source": []
  }
 ],
 "metadata": {
  "kernelspec": {
   "display_name": "Python 3",
   "language": "python",
   "name": "python3"
  },
  "language_info": {
   "codemirror_mode": {
    "name": "ipython",
    "version": 3
   },
   "file_extension": ".py",
   "mimetype": "text/x-python",
   "name": "python",
   "nbconvert_exporter": "python",
   "pygments_lexer": "ipython3",
   "version": "3.9.16"
  },
  "orig_nbformat": 4
 },
 "nbformat": 4,
 "nbformat_minor": 2
}
