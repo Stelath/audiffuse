{
 "cells": [
  {
   "cell_type": "code",
   "execution_count": 1,
   "metadata": {},
   "outputs": [
    {
     "name": "stderr",
     "output_type": "stream",
     "text": [
      "/home/korte/micromamba/envs/ml/lib/python3.9/site-packages/tqdm/auto.py:22: TqdmWarning: IProgress not found. Please update jupyter and ipywidgets. See https://ipywidgets.readthedocs.io/en/stable/user_install.html\n",
      "  from .autonotebook import tqdm as notebook_tqdm\n"
     ]
    }
   ],
   "source": [
    "import os\n",
    "import numpy as np\n",
    "import pandas as pd\n",
    "from epidemic_sound_dataset import EpidemicSoundDataset\n",
    "from transformers import ClapFeatureExtractor"
   ]
  },
  {
   "cell_type": "code",
   "execution_count": 2,
   "metadata": {},
   "outputs": [],
   "source": [
    "dataset = EpidemicSoundDataset('/fastscratch/korte/es_dataset/')"
   ]
  },
  {
   "cell_type": "code",
   "execution_count": 3,
   "metadata": {},
   "outputs": [
    {
     "name": "stdout",
     "output_type": "stream",
     "text": [
      "CPU times: user 1.22 s, sys: 270 ms, total: 1.49 s\n",
      "Wall time: 459 ms\n"
     ]
    },
    {
     "data": {
      "text/plain": [
       "(tensor([[[0.8980, 0.8980, 0.8980,  ..., 0.8980, 0.8980, 0.8980],\n",
       "          [0.8980, 0.8980, 0.8980,  ..., 0.8980, 0.8980, 0.8980],\n",
       "          [0.8980, 0.8980, 0.8980,  ..., 0.8980, 0.8980, 0.8980],\n",
       "          ...,\n",
       "          [0.8980, 0.8980, 0.8980,  ..., 0.8980, 0.8980, 0.8980],\n",
       "          [0.8980, 0.8980, 0.8980,  ..., 0.8980, 0.8980, 0.8980],\n",
       "          [0.8980, 0.8980, 0.8980,  ..., 0.8980, 0.8980, 0.8980]],\n",
       " \n",
       "         [[0.8039, 0.8039, 0.8039,  ..., 0.8196, 0.8196, 0.8196],\n",
       "          [0.8039, 0.8039, 0.8039,  ..., 0.8196, 0.8196, 0.8196],\n",
       "          [0.8039, 0.8039, 0.8039,  ..., 0.8196, 0.8196, 0.8196],\n",
       "          ...,\n",
       "          [0.8039, 0.8039, 0.8039,  ..., 0.8196, 0.8196, 0.8196],\n",
       "          [0.8039, 0.8039, 0.8039,  ..., 0.8196, 0.8196, 0.8196],\n",
       "          [0.8039, 0.8039, 0.8039,  ..., 0.8196, 0.8196, 0.8196]],\n",
       " \n",
       "         [[0.8196, 0.8196, 0.8196,  ..., 0.8275, 0.8275, 0.8275],\n",
       "          [0.8196, 0.8196, 0.8196,  ..., 0.8275, 0.8275, 0.8275],\n",
       "          [0.8196, 0.8196, 0.8196,  ..., 0.8275, 0.8275, 0.8275],\n",
       "          ...,\n",
       "          [0.8353, 0.8353, 0.8353,  ..., 0.8275, 0.8275, 0.8275],\n",
       "          [0.8353, 0.8353, 0.8353,  ..., 0.8275, 0.8275, 0.8275],\n",
       "          [0.8353, 0.8353, 0.8353,  ..., 0.8275, 0.8275, 0.8275]]]),\n",
       " array([0.01044942, 0.00945014, 0.00137359, ..., 0.00035914, 0.00044077,\n",
       "        0.        ], dtype=float32))"
      ]
     },
     "execution_count": 3,
     "metadata": {},
     "output_type": "execute_result"
    }
   ],
   "source": [
    "%%time\n",
    "dataset[0]"
   ]
  },
  {
   "cell_type": "code",
   "execution_count": 8,
   "metadata": {},
   "outputs": [],
   "source": [
    "fe = ClapFeatureExtractor(max_length_s=100)"
   ]
  },
  {
   "cell_type": "code",
   "execution_count": 5,
   "metadata": {},
   "outputs": [],
   "source": [
    "tracks = []\n",
    "for i in range(32):\n",
    "    tracks.append(dataset[i][1])"
   ]
  },
  {
   "cell_type": "code",
   "execution_count": 9,
   "metadata": {},
   "outputs": [
    {
     "name": "stdout",
     "output_type": "stream",
     "text": [
      "CPU times: user 8.38 s, sys: 1.48 s, total: 9.86 s\n",
      "Wall time: 5.91 s\n"
     ]
    }
   ],
   "source": [
    "%%time\n",
    "pp = fe(dataset[3][1], sampling_rate=48000)"
   ]
  },
  {
   "cell_type": "code",
   "execution_count": 10,
   "metadata": {},
   "outputs": [
    {
     "data": {
      "text/plain": [
       "(4, 10001, 64)"
      ]
     },
     "execution_count": 10,
     "metadata": {},
     "output_type": "execute_result"
    }
   ],
   "source": [
    "pp['input_features'][0].shape"
   ]
  },
  {
   "cell_type": "code",
   "execution_count": null,
   "metadata": {},
   "outputs": [],
   "source": []
  }
 ],
 "metadata": {
  "kernelspec": {
   "display_name": "Python 3",
   "language": "python",
   "name": "python3"
  },
  "language_info": {
   "codemirror_mode": {
    "name": "ipython",
    "version": 3
   },
   "file_extension": ".py",
   "mimetype": "text/x-python",
   "name": "python",
   "nbconvert_exporter": "python",
   "pygments_lexer": "ipython3",
   "version": "3.9.16"
  },
  "orig_nbformat": 4
 },
 "nbformat": 4,
 "nbformat_minor": 2
}
