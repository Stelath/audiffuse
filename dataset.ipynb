{
 "cells": [
  {
   "cell_type": "code",
   "execution_count": 1,
   "metadata": {},
   "outputs": [],
   "source": [
    "import torch\n",
    "from tqdm import tqdm\n",
    "from es_dataset import EpidemicSoundDataModule, EpidemicSoundDataset\n",
    "from torch.utils.data import DataLoader"
   ]
  },
  {
   "cell_type": "code",
   "execution_count": 2,
   "metadata": {},
   "outputs": [],
   "source": [
    "# esdm = EpidemicSoundDataModule('/fastscratch/korte/es-dataset')\n",
    "# esdm.setup(stage=None)\n",
    "\n",
    "# esdm = esdm.train_dataloader()\n",
    "\n",
    "esdm = DataLoader(EpidemicSoundDataset('/fastscratch/korte/es-dataset'), batch_size=8, num_workers=8, pin_memory=True)"
   ]
  },
  {
   "cell_type": "code",
   "execution_count": 3,
   "metadata": {},
   "outputs": [
    {
     "name": "stderr",
     "output_type": "stream",
     "text": [
      "100%|██████████| 3116/3116 [06:22<00:00,  8.15it/s]\n"
     ]
    }
   ],
   "source": [
    "for batch in tqdm(esdm):\n",
    "    if torch.any(torch.isnan(batch['album_art'])) or torch.any(torch.isnan(batch['audio']['input_values'])) or torch.any(torch.isnan(batch['audio']['attention_mask'])):\n",
    "        print(\"Found NaN\")\n",
    "        break\n"
   ]
  },
  {
   "cell_type": "code",
   "execution_count": null,
   "metadata": {},
   "outputs": [],
   "source": []
  }
 ],
 "metadata": {
  "kernelspec": {
   "display_name": "Python 3",
   "language": "python",
   "name": "python3"
  },
  "language_info": {
   "codemirror_mode": {
    "name": "ipython",
    "version": 3
   },
   "file_extension": ".py",
   "mimetype": "text/x-python",
   "name": "python",
   "nbconvert_exporter": "python",
   "pygments_lexer": "ipython3",
   "version": "3.9.18"
  }
 },
 "nbformat": 4,
 "nbformat_minor": 2
}
